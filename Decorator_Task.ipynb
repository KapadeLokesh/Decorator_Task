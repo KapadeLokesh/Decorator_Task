{
 "cells": [
  {
   "cell_type": "markdown",
   "id": "87ad9af5-c702-483e-b3d8-3e82b10ca570",
   "metadata": {},
   "source": [
    "## 1. Explain how decorators and closures are related. Can a decorator be implemented without using closures? Why or why not?"
   ]
  },
  {
   "cell_type": "markdown",
   "id": "c4a7f7c4-554b-4468-9c09-9afbb7e95f91",
   "metadata": {},
   "source": [
    "**Decorators:**\n",
    "\n",
    "- Decorator is a function that takes another function as argument and extends/modify the behaviour of without explicitly modifying the original function.\n",
    "\n",
    "**Closure:**\n",
    "\n",
    "- Function which remember the enviornment variables and arguments in which they are created. It can access variables from its outer function even after outer function has finished execution.\n",
    "\n",
    "**Relation between Decorator & Closure:**\n",
    "\n",
    "- Both are related because many decorators rely on closure to remember the function they are modifying and allow them to wrap additional behaviour."
   ]
  },
  {
   "cell_type": "code",
   "execution_count": 81,
   "id": "d90ad137-452d-447d-b8b7-5e65d4a8fdb0",
   "metadata": {},
   "outputs": [
    {
     "name": "stdout",
     "output_type": "stream",
     "text": [
      "Before calling the function\n",
      "After calling the function\n",
      "Hello, Loki!\n"
     ]
    }
   ],
   "source": [
    "# Decorator using closure\n",
    "\n",
    "def decorator(func):\n",
    "    def wrapper(*args, **kwargs):\n",
    "        print(\"Before calling the function\")\n",
    "        result = func(*args, **kwargs)  # Call the original function\n",
    "        print(\"After calling the function\")\n",
    "        return result\n",
    "    return wrapper  # Return the wrapper function, which is a closure\n",
    "\n",
    "@decorator\n",
    "def greet(name):\n",
    "    return f\"Hello, {name}!\"\n",
    "\n",
    "print(greet(\"Loki\"))\n"
   ]
  },
  {
   "cell_type": "code",
   "execution_count": 87,
   "id": "b3442f08-e49a-473c-8895-46c604711531",
   "metadata": {},
   "outputs": [
    {
     "name": "stdout",
     "output_type": "stream",
     "text": [
      "Before calling the function\n",
      "Hello, Loki!\n",
      "After calling the function\n"
     ]
    }
   ],
   "source": [
    "# Decorator without using closure.\n",
    "\n",
    "def decorator(func):\n",
    "    # Instead of returning a wrapper function, we modify the original function directly.\n",
    "    def new_function(*args):\n",
    "        print(\"Before calling the function\")\n",
    "        result = func(*args)  # Call the original function with the same arguments\n",
    "        print(\"After calling the function\")\n",
    "        return result\n",
    "    return new_function\n",
    "\n",
    "def greet(name):\n",
    "    print(f\"Hello, {name}!\")\n",
    "    \n",
    "# Apply the decorator manually\n",
    "greet = decorator(greet)\n",
    "\n",
    "# Call the decorated function\n",
    "greet(\"Loki\")"
   ]
  },
  {
   "cell_type": "markdown",
   "id": "640c42e6-8522-46fe-9841-139ead4bfe4c",
   "metadata": {},
   "source": [
    "- We can implement decorator without using closures but it will not work as decorators do with using closure.\n",
    "- Here decorator would modify the original function directly rather returning a function that wraps original one."
   ]
  },
  {
   "cell_type": "markdown",
   "id": "761e7bb7-1944-48c5-8cb8-6c5427792075",
   "metadata": {},
   "source": [
    "## 2. How do you create a parameterized decorator? Write a decorator that takes an argument specifying how many times to retry a function upon failure."
   ]
  },
  {
   "cell_type": "markdown",
   "id": "d0e40ca5-234e-4b51-afe2-635d7796e993",
   "metadata": {},
   "source": [
    "- To create a parameterized decorator we need to create a function that accepts arguments and return actual decorator function. The decoraor then wraps the original function and use passed parameters."
   ]
  },
  {
   "cell_type": "code",
   "execution_count": 155,
   "id": "dc8c3191-45cb-431c-b61a-ff091bab9a45",
   "metadata": {},
   "outputs": [
    {
     "name": "stdout",
     "output_type": "stream",
     "text": [
      "Hello!\n",
      "Hello!\n",
      "Hello!\n"
     ]
    }
   ],
   "source": [
    "def repeat(n):\n",
    "    # This is the outer function that takes the number of repetitions\n",
    "    def decorator(func):\n",
    "        # This is the actual decorator function\n",
    "        def wrapper(*args, **kwargs):\n",
    "            for _ in range(n):\n",
    "                func(*args, **kwargs)  # Call the original function n times\n",
    "        return wrapper  # Return the wrapper function\n",
    "    return decorator  # Return the decorator itself\n",
    "\n",
    "# Use the repeat decorator with a parameter\n",
    "@repeat(3)\n",
    "def greet():\n",
    "    print(\"Hello!\")\n",
    "\n",
    "# Call the decorated function\n",
    "greet()\n"
   ]
  },
  {
   "cell_type": "markdown",
   "id": "011df18f-2799-4232-a1dc-91a049f0d541",
   "metadata": {},
   "source": [
    "## 3. Write a simple decorator that prints the execution of a function."
   ]
  },
  {
   "cell_type": "code",
   "execution_count": 166,
   "id": "7ca61bbd-27ca-45f4-a8c0-f916cc762638",
   "metadata": {},
   "outputs": [
    {
     "name": "stdout",
     "output_type": "stream",
     "text": [
      "Executing say_hello function...\n",
      "Hello, Loki!\n",
      "Execution of say_hello is complete.\n"
     ]
    }
   ],
   "source": [
    "def print_execution(func):\n",
    "    def wrapper(name):\n",
    "        print(f\"Executing {func.__name__} function...\")  # Print before executing the function\n",
    "        result = func(name)  # Call the original function\n",
    "        print(f\"Execution of {func.__name__} is complete.\")  # Print after executing the function\n",
    "        return result\n",
    "    return wrapper\n",
    "\n",
    "# Example function to decorate\n",
    "@print_execution\n",
    "def say_hello(name):\n",
    "    print(f\"Hello, {name}!\")\n",
    "\n",
    "# Call the decorated function\n",
    "say_hello(\"Loki\")\n"
   ]
  },
  {
   "cell_type": "markdown",
   "id": "b2b1fa25-fa34-46c1-be09-5479dfa9d568",
   "metadata": {},
   "source": [
    "## 4. Create a decorator call_counter that tracks how many times a function is called. Use it with a function say_hello that prints \"Hello!\"."
   ]
  },
  {
   "cell_type": "code",
   "execution_count": 170,
   "id": "a3b1e356-4144-4620-a59f-878dac8fe848",
   "metadata": {},
   "outputs": [
    {
     "name": "stdout",
     "output_type": "stream",
     "text": [
      "Functin greet is called 1 times.\n",
      "Konichiwaaa\n",
      "Functin greet is called 2 times.\n",
      "Konichiwaaa\n",
      "Functin greet is called 3 times.\n",
      "Konichiwaaa\n"
     ]
    }
   ],
   "source": [
    "def counter(func):\n",
    "    def wrapper(*args):\n",
    "        wrapper.counter += 1\n",
    "        print(\"Functin\",func.__name__,\"is called\",wrapper.counter,\"times.\")\n",
    "        return func(*args)\n",
    "    wrapper.counter = 0\n",
    "    return wrapper\n",
    "\n",
    "@counter\n",
    "def greet():\n",
    "    print(\"Konichiwaaa\")\n",
    "\n",
    "greet()\n",
    "greet()\n",
    "greet()"
   ]
  },
  {
   "cell_type": "markdown",
   "id": "f1e5cd92-6642-4ad1-a3aa-427483072ebc",
   "metadata": {},
   "source": [
    "## 5. Write a decorator double_result that doubles the result of the decorated function. Use it with a function add that adds two numbers."
   ]
  },
  {
   "cell_type": "code",
   "execution_count": 173,
   "id": "5ce82722-70a2-4084-a328-984a0c4b871d",
   "metadata": {},
   "outputs": [
    {
     "name": "stdout",
     "output_type": "stream",
     "text": [
      "Doubled result: 14\n"
     ]
    }
   ],
   "source": [
    "def double_result(func):\n",
    "    def wrapper(a,b):\n",
    "        result = func(a,b)  # Call the original function\n",
    "        return result * 2  # Double the result before returning it\n",
    "    return wrapper\n",
    "\n",
    "# Example function to decorate\n",
    "@double_result\n",
    "def add(a, b):\n",
    "    return a + b\n",
    "\n",
    "# Call the decorated function\n",
    "result = add(3, 4)\n",
    "print(f\"Doubled result: {result}\")\n"
   ]
  },
  {
   "cell_type": "markdown",
   "id": "0a2e4013-7861-4324-9b81-a280251375a9",
   "metadata": {},
   "source": [
    "## 6. What happens when multiple decorators are applied to a single function?\n",
    "\n",
    "- When you apply multiple decorators to a function, they are executed in the reverse order from how they are written.\n",
    "- The innermost decorator (the one closest to the function) is applied first.\n",
    "- Then, the next decorator wraps the function modified by the previous one.\n",
    "- This continues until all decorators are applied."
   ]
  },
  {
   "cell_type": "code",
   "execution_count": 191,
   "id": "1c8931f5-994f-494e-b310-c6dd07df69c9",
   "metadata": {},
   "outputs": [
    {
     "name": "stdout",
     "output_type": "stream",
     "text": [
      "Decorator 1\n",
      "Decorator 2\n",
      "Hello, Loki!\n"
     ]
    }
   ],
   "source": [
    "def decorator_outer(func):\n",
    "    def wrapper(name):\n",
    "        print(\"Decorator 1\")\n",
    "        return func(name)\n",
    "        \n",
    "    return wrapper\n",
    "\n",
    "def decorator_inner(func):\n",
    "    def wrapper(name):\n",
    "        print(\"Decorator 2\")\n",
    "        return func(name)\n",
    "    return wrapper\n",
    "\n",
    "@decorator_1\n",
    "@decorator_2\n",
    "def say_hello(name):\n",
    "    print(f\"Hello, {name}!\")\n",
    "\n",
    "say_hello(\"Loki\")\n"
   ]
  },
  {
   "cell_type": "markdown",
   "id": "37838149-0a73-4a15-8684-4defc2aee1ce",
   "metadata": {},
   "source": [
    "## What are some common use cases for decorators?"
   ]
  },
  {
   "cell_type": "markdown",
   "id": "fda83388-6bfc-4307-84c9-4293ab49b67f",
   "metadata": {},
   "source": [
    "- Logging and Debugging: Track inputs, outputs, and execution flow of functions for easier debugging and monitoring without changing the function code.\n",
    "- Authentication and Authorization: Ensure that only authorized users can access certain functions or resources in applications, especially in web frameworks.\n",
    "- Performance Monitoring: Measure how long a function takes to execute, helping identify bottlenecks and optimize performance.\n",
    "- Retry Mechanism: Automatically retry a function in case of failure, useful in cases where temporary issues (like network failure) might cause errors.\n",
    "- Result Modification: Modify the return value of a function, such as adjusting the output or applying additional logic to the result before it’s returned to the caller."
   ]
  },
  {
   "cell_type": "code",
   "execution_count": null,
   "id": "bc364b4d-c3e3-4151-bc6f-21bb89e59aab",
   "metadata": {},
   "outputs": [],
   "source": []
  }
 ],
 "metadata": {
  "kernelspec": {
   "display_name": "Python 3 (ipykernel)",
   "language": "python",
   "name": "python3"
  },
  "language_info": {
   "codemirror_mode": {
    "name": "ipython",
    "version": 3
   },
   "file_extension": ".py",
   "mimetype": "text/x-python",
   "name": "python",
   "nbconvert_exporter": "python",
   "pygments_lexer": "ipython3",
   "version": "3.12.4"
  }
 },
 "nbformat": 4,
 "nbformat_minor": 5
}
